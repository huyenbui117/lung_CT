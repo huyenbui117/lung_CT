{
 "cells": [
  {
   "cell_type": "code",
   "execution_count": 37,
   "metadata": {},
   "outputs": [],
   "source": [
    "from get_data_from_XML import *\n",
    "import pydicom as dicomio\n",
    "from utils import *\n",
    "from get_data_from_XML import get_category\n",
    "import cv2\n",
    "import numpy as np\n",
    "import matplotlib.pyplot as plt\n",
    "from tqdm import tqdm\n",
    "from PIL import Image, ImageDraw\n",
    "\n"
   ]
  },
  {
   "cell_type": "code",
   "execution_count": 38,
   "metadata": {},
   "outputs": [],
   "source": [
    "annotation_path = '/Users/khanhhuyen/Documents/IAI/lung_CT/Annotation/A0001'\n",
    "num_classes = 4\n",
    "class_list = get_category('category.txt')\n",
    "dicom_mode = 'CT'\n",
    "dicom_path = '/Users/khanhhuyen/Documents/IAI/lung_CT/Lung-PET-CT-Dx/manifest-1675442780019/Lung-PET-CT-Dx/Lung_Dx-A0001'"
   ]
  },
  {
   "cell_type": "code",
   "execution_count": 39,
   "metadata": {},
   "outputs": [],
   "source": [
    "def loadFileInformation(filename):\n",
    "    information = {}\n",
    "    ds = dicomio.read_file(filename, force=True)\n",
    "    information['dicom_num'] = ds.SOPInstanceUID\n",
    "    return information"
   ]
  },
  {
   "cell_type": "code",
   "execution_count": 40,
   "metadata": {},
   "outputs": [],
   "source": [
    "def getUID_path(path):\n",
    "    dict = {}\n",
    "    list = os.listdir(path)\n",
    "\n",
    "    for date in list:\n",
    "        date_path = os.path.join(path, date)\n",
    "        series_list = os.listdir(date_path)\n",
    "        series_list.sort()\n",
    "\n",
    "        for series in series_list:\n",
    "            series_path = os.path.join(date_path, series)\n",
    "            dicom_list = os.listdir(series_path)\n",
    "            dicom_list.sort()\n",
    "\n",
    "            for dicom in dicom_list:\n",
    "                dicom_path = os.path.join(series_path, dicom)\n",
    "                if 'result' not in dicom_path:\n",
    "                    info = loadFileInformation(dicom_path)\n",
    "                    dict[info['dicom_num']] = (dicom_path, dicom)\n",
    "\n",
    "    return dict\n",
    "dictionary = getUID_path(dicom_path)"
   ]
  },
  {
   "cell_type": "code",
   "execution_count": 41,
   "metadata": {},
   "outputs": [],
   "source": [
    "def showImage(img, title='image', t=0, esc=False):\n",
    "    cv2.imshow(title, img)\n",
    "    if esc:\n",
    "        while cv2.waitKey(0) != 27:\n",
    "            if cv2.getWindowProperty(title, cv2.WND_PROP_VISIBLE)<=0:\n",
    "                break\n",
    "    else:\n",
    "        cv2.waitKey(t)\n",
    "    cv2.destroyWindow(title)\n",
    "\n",
    "def class_colors(num_colors):\n",
    "    class_colors = []\n",
    "    for i in range(0, num_colors):\n",
    "        hue = 255 * i / num_colors\n",
    "        col = np.zeros((1, 1, 3)).astype(\"uint8\")\n",
    "        col[0][0][0] = hue\n",
    "        col[0][0][1] = 128  # Saturation\n",
    "        col[0][0][2] = 255  # Value\n",
    "        cvcol = cv2.cvtColor(col, cv2.COLOR_HSV2BGR)\n",
    "        col = (int(cvcol[0][0][0]), int(cvcol[0][0][1]), int(cvcol[0][0][2]))\n",
    "        class_colors.append(col)\n",
    "\n",
    "    return class_colors\n",
    "\n",
    "def roi2rect(img_name, img_np, img_data, label_list):\n",
    "    colors = class_colors(len(label_list))\n",
    "    for rect in img_data:\n",
    "        bounding_box = [rect[0], rect[1], rect[2], rect[3]]\n",
    "        # print(bounding_box)\n",
    "        xmin = int(bounding_box[0])\n",
    "        ymin = int(bounding_box[1])\n",
    "        xmax = int(bounding_box[2])\n",
    "        ymax = int(bounding_box[3])\n",
    "        pmin = (xmin, ymin)\n",
    "        pmax = (xmax, ymax)\n",
    "\n",
    "        label_array = rect[4:]\n",
    "        # print(label_array)\n",
    "        #find the first index of 1\n",
    "        index = int(np.where(label_array == 1)[0])\n",
    "        # index = int(np.where(label_array == np.float(1))[0])\n",
    "        label = label_list[index]\n",
    "\n",
    "        color = tuple(map(int, np.uint8(np.random.uniform(0, 255, 3))))\n",
    "        color = colors[index]\n",
    "        cv2.rectangle(img_np, pmin, pmax, color, 2)\n",
    "\n",
    "        text_top = (xmin, ymin - 10)\n",
    "        text_bot = (xmin + 80, ymin + 5)\n",
    "        text_pos = (xmin + 5, ymin)\n",
    "        cv2.rectangle(img_np, text_top, text_bot, colors[index], -1)\n",
    "        cv2.putText(img_np, label, text_pos, cv2.FONT_HERSHEY_PLAIN, cv2.FONT_HERSHEY_PLAIN, 1, 1, 2)\n",
    "    \n",
    "    return img_np\n",
    "\n"
   ]
  },
  {
   "cell_type": "code",
   "execution_count": 42,
   "metadata": {},
   "outputs": [
    {
     "name": "stderr",
     "output_type": "stream",
     "text": [
      "Processing 1-14.dcm: 100%|██████████| 20/20 [00:00<00:00, 32.02it/s]\n"
     ]
    },
    {
     "name": "stdout",
     "output_type": "stream",
     "text": [
      "['1-13.dcm', '1-14.dcm', '1-14.dcm', '1-15.dcm', '1-15.dcm', '1-16.dcm', '1-16.dcm', '1-17.dcm', '1-17.dcm', '1-18.dcm', '1-18.dcm', '1-19.dcm', '1-19.dcm', '1-20.dcm', '1-20.dcm', '1-21.dcm', '1-21.dcm', '1-22.dcm', '1-22.dcm', '1-23.dcm']\n"
     ]
    }
   ],
   "source": [
    "dcm_names = []\n",
    "frames = []\n",
    "if os.path.isdir(annotation_path):\n",
    "    annotations = XML_preprocessor(annotation_path, num_classes=num_classes).data\n",
    "    for k, v in (pbar:=tqdm(annotations.items())):\n",
    "        # # dcm_name = k + '.dcm'\n",
    "        dcm_path, dcm_name = dictionary[k[:-4]]\n",
    "        image_data = v\n",
    "\n",
    "        if dicom_mode == 'CT':\n",
    "            matrix, frame_num, width, height, ch = loadFile(os.path.join(dcm_path))\n",
    "            img_bitmap = MatrixToImage(matrix[0], ch)\n",
    "        elif dicom_mode == 'PET':\n",
    "            img_array, frame_num, width, height, ch = loadFile(dcm_path)\n",
    "            img_bitmap = PETToImage(img_array, color_reversed=True)\n",
    "        # print(dcm_name, img_bitmap, image_data, class_list)\n",
    "        pbar.set_description(f'Processing {dcm_name}')\n",
    "        result = roi2rect(img_name=dcm_name, img_np=img_bitmap, img_data=image_data, label_list=class_list)\n",
    "        \n",
    "        # save to parent folder of dcm_path\n",
    "        \n",
    "        save_path = os.path.join(os.path.dirname(os.path.dirname(dcm_path)), 'result')\n",
    "        if not os.path.exists(save_path):\n",
    "            os.mkdir(save_path)\n",
    "        save_name = os.path.join(save_path, dcm_name.split('.')[0] + '.png')\n",
    "        \n",
    "        \n",
    "        img = Image.fromarray(result)\n",
    "        frames.append(img)\n",
    "        img.save(save_name)\n",
    "        dcm_names.append(dcm_name)\n",
    "\n",
    "        \n",
    "        \n",
    "\n",
    "        # break\n",
    "\n",
    "# sort dcm_names\n",
    "dcm_names.sort()\n",
    "print(dcm_names) \n",
    "# save to gif\n",
    "frames[0].save(os.path.join(save_path, 'result.gif'), format='GIF', append_images=frames[1:], save_all=True, duration=100, loop=0)"
   ]
  }
 ],
 "metadata": {
  "kernelspec": {
   "display_name": "py310_lungCT",
   "language": "python",
   "name": "python3"
  },
  "language_info": {
   "codemirror_mode": {
    "name": "ipython",
    "version": 3
   },
   "file_extension": ".py",
   "mimetype": "text/x-python",
   "name": "python",
   "nbconvert_exporter": "python",
   "pygments_lexer": "ipython3",
   "version": "3.10.9"
  },
  "orig_nbformat": 4,
  "vscode": {
   "interpreter": {
    "hash": "ff0caf839973065b25277e9fc05f84c328ce8547f38adc3f94e7b34674f28748"
   }
  }
 },
 "nbformat": 4,
 "nbformat_minor": 2
}
